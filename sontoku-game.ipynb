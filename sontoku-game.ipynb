{
 "cells": [
  {
   "cell_type": "code",
   "execution_count": 1,
   "metadata": {},
   "outputs": [],
   "source": [
    "import numpy as np\n",
    "import matplotlib.pyplot as plt\n",
    "from pathlib import Path\n",
    "\n",
    "from play import play_a_game_auto"
   ]
  },
  {
   "cell_type": "code",
   "execution_count": 2,
   "metadata": {},
   "outputs": [
    {
     "name": "stdout",
     "output_type": "stream",
     "text": [
      "Should be smaller than 1e-4: 2.6561398887587544e-05\n"
     ]
    }
   ],
   "source": [
    "gamma = 0.9  # discount rate\n",
    "total_episodes_calc_return = 100\n",
    "total_times_for_return = 3000\n",
    "total_episodes = total_times_for_return + total_episodes_calc_return\n",
    "total_samples = 500\n",
    "np.random.seed(123456)\n",
    "Path(\"./data\").mkdir(exist_ok=True)\n",
    "\n",
    "print(\"Should be smaller than 1e-4:\", gamma ** total_episodes_calc_return)"
   ]
  },
  {
   "cell_type": "code",
   "execution_count": 3,
   "metadata": {},
   "outputs": [],
   "source": [
    "def discounted_cumulative_reward(rewards):\n",
    "    c = np.zeros(total_times_for_return)\n",
    "    for t in range(total_times_for_return):\n",
    "        c[t] = np.sum([(gamma**k) * rewards[t + k] for k in range(total_episodes_calc_return)])\n",
    "    return c"
   ]
  },
  {
   "cell_type": "markdown",
   "metadata": {},
   "source": [
    "## 常に0番目の行動を選ぶエージェント"
   ]
  },
  {
   "cell_type": "code",
   "execution_count": 4,
   "metadata": {},
   "outputs": [],
   "source": [
    "datafile = \"./data/default_0.txt\"\n",
    "p_datafile = Path(datafile)\n",
    "data_exist = p_datafile.exists() and p_datafile.is_file()\n",
    "if data_exist:\n",
    "    avg_retrun_default = np.loadtxt(datafile)\n",
    "    data_exist = avg_retrun_default.size == total_times_for_return\n",
    "if not data_exist:\n",
    "    avg_retrun_default = np.zeros(total_times_for_return)\n",
    "    for _ in range(total_samples):\n",
    "        avg_retrun_default += discounted_cumulative_reward(play_a_game_auto(total_episodes=total_episodes))\n",
    "    avg_retrun_default /= total_samples\n",
    "    np.savetxt(datafile, avg_retrun_default, fmt='%.4f')"
   ]
  },
  {
   "cell_type": "code",
   "execution_count": 9,
   "metadata": {},
   "outputs": [
    {
     "data": {
      "text/plain": [
       "<matplotlib.collections.PathCollection at 0x231c1111160>"
      ]
     },
     "execution_count": 9,
     "metadata": {},
     "output_type": "execute_result"
    },
    {
     "data": {
      "image/png": "[encoded data removed]",
      "text/plain": [
       "<Figure size 576x432 with 1 Axes>"
      ]
     },
     "metadata": {
      "needs_background": "light"
     },
     "output_type": "display_data"
    }
   ],
   "source": [
    "fig = plt.figure(figsize=(8,6))\n",
    "ax = fig.subplots(1, 1)\n",
    "fig.subplots_adjust(left=0.1, bottom=0.1, right=1, top=1)\n",
    "\n",
    "ax.scatter(range(len(avg_retrun_default)), avg_retrun_default)"
   ]
  },
  {
   "cell_type": "markdown",
   "metadata": {},
   "source": [
    "## SARSA法で学習するエージェント\n",
    "### policyの更新はイプシロン貪欲法で、Q関数はゼロ初期化"
   ]
  },
  {
   "cell_type": "code",
   "execution_count": 12,
   "metadata": {},
   "outputs": [],
   "source": [
    "datafile = \"./data/SARSA_ep_zero.txt\"\n",
    "p_datafile = Path(datafile)\n",
    "data_exist = p_datafile.exists() and p_datafile.is_file()\n",
    "if data_exist:\n",
    "    avg_return_SARSA_ep_zero = np.loadtxt(datafile)\n",
    "    data_exist = avg_return_SARSA_ep_zero.size == total_times_for_return\n",
    "if not data_exist:\n",
    "    from SARSA import AgentSARSA\n",
    "    from policy_models import epsilon_greedy\n",
    "\n",
    "    avg_return_SARSA_ep_zero = np.zeros(total_times_for_return)\n",
    "    for _ in range(total_samples):\n",
    "        agent = AgentSARSA(gamma=gamma, policy_model=epsilon_greedy, optimistic=False)\n",
    "        avg_return_SARSA_ep_zero += discounted_cumulative_reward(play_a_game_auto(total_episodes=total_episodes, agent=agent))\n",
    "    avg_return_SARSA_ep_zero /= total_samples\n",
    "    np.savetxt(datafile, avg_return_SARSA_ep_zero, fmt='%.4f')"
   ]
  },
  {
   "cell_type": "code",
   "execution_count": 13,
   "metadata": {},
   "outputs": [
    {
     "data": {
      "text/plain": [
       "<matplotlib.collections.PathCollection at 0x231c110a2b0>"
      ]
     },
     "execution_count": 13,
     "metadata": {},
     "output_type": "execute_result"
    },
    {
     "data": {
      "image/png": "[encoded data removed]",
      "text/plain": [
       "<Figure size 576x432 with 1 Axes>"
      ]
     },
     "metadata": {
      "needs_background": "light"
     },
     "output_type": "display_data"
    }
   ],
   "source": [
    "fig = plt.figure(figsize=(8,6))\n",
    "ax = fig.subplots(1, 1)\n",
    "fig.subplots_adjust(left=0.1, bottom=0.1, right=1, top=1)\n",
    "\n",
    "ax.scatter(range(len(avg_return_SARSA_ep_zero)), avg_return_SARSA_ep_zero)"
   ]
  },
  {
   "cell_type": "code",
   "execution_count": null,
   "metadata": {},
   "outputs": [],
   "source": []
  }
 ],
 "metadata": {
  "interpreter": {
   "hash": "fa34bdf31b29ca3bc2e13257e9d205dd3152b253a2953fe1c34c7f28ecd095bd"
  },
  "kernelspec": {
   "display_name": "Python 3.9.6 64-bit ('usualwin': conda)",
   "name": "python3"
  },
  "language_info": {
   "codemirror_mode": {
    "name": "ipython",
    "version": 3
   },
   "file_extension": ".py",
   "mimetype": "text/x-python",
   "name": "python",
   "nbconvert_exporter": "python",
   "pygments_lexer": "ipython3",
   "version": "3.9.6"
  },
  "orig_nbformat": 4
 },
 "nbformat": 4,
 "nbformat_minor": 2
}
