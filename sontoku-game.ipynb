{
 "cells": [
  {
   "cell_type": "code",
   "execution_count": null,
   "metadata": {},
   "outputs": [],
   "source": [
    "import numpy as np\n",
    "import matplotlib.pyplot as plt\n",
    "from play import play_a_game_auto"
   ]
  },
  {
   "cell_type": "code",
   "execution_count": null,
   "metadata": {},
   "outputs": [],
   "source": [
    "total_episodes = 100\n",
    "total_samples = 1000\n",
    "np.random.seed(123456)"
   ]
  },
  {
   "cell_type": "markdown",
   "metadata": {},
   "source": [
    "## 常に同じ行動を選ぶエージェント"
   ]
  },
  {
   "cell_type": "code",
   "execution_count": null,
   "metadata": {},
   "outputs": [],
   "source": [
    "avg_rewards_default = np.zeros(total_episodes + 1)\n",
    "for _ in range(total_samples):\n",
    "    avg_rewards_default += play_a_game_auto(total_episodes=total_episodes)\n",
    "avg_rewards_default /= total_samples"
   ]
  },
  {
   "cell_type": "code",
   "execution_count": null,
   "metadata": {},
   "outputs": [],
   "source": [
    "fig = plt.figure(figsize=(8,8))\n",
    "ax = fig.subplots(1, 1)\n",
    "fig.subplots_adjust(left=0.2, bottom=0.2, right=1, top=0.8, wspace=0.2, hspace=0.1)\n",
    "\n",
    "ax.scatter(range(len(avg_rewards_default)), avg_rewards_default)"
   ]
  },
  {
   "cell_type": "markdown",
   "metadata": {},
   "source": [
    "## SARSA法で学習するエージェント\n",
    "### policyの更新はイプシロン貪欲法で、Q関数はゼロ初期化"
   ]
  },
  {
   "cell_type": "code",
   "execution_count": null,
   "metadata": {},
   "outputs": [],
   "source": [
    "from SARSA import AgentSARSA\n",
    "from policy_models import epsilon_greedy\n",
    "agent = AgentSARSA(gamma=0.9, policy_model=epsilon_greedy, optimistic=False)\n",
    "\n",
    "avg_rewards_SARSA_ep = np.zeros(total_episodes + 1)\n",
    "for _ in range(total_samples):\n",
    "    avg_rewards_SARSA_ep += play_a_game_auto(total_episodes=total_episodes)\n",
    "avg_rewards_SARSA_ep /= total_samples"
   ]
  },
  {
   "cell_type": "code",
   "execution_count": null,
   "metadata": {},
   "outputs": [],
   "source": [
    "fig = plt.figure(figsize=(8,8))\n",
    "ax = fig.subplots(1, 1)\n",
    "fig.subplots_adjust(left=0.2, bottom=0.2, right=1, top=0.8, wspace=0.2, hspace=0.1)\n",
    "\n",
    "ax.scatter(range(len(avg_rewards_SARSA_ep)), avg_rewards_SARSA_ep)"
   ]
  },
  {
   "cell_type": "code",
   "execution_count": null,
   "metadata": {},
   "outputs": [],
   "source": []
  }
 ],
 "metadata": {
  "interpreter": {
   "hash": "fa34bdf31b29ca3bc2e13257e9d205dd3152b253a2953fe1c34c7f28ecd095bd"
  },
  "kernelspec": {
   "display_name": "Python 3.9.6 64-bit ('usualwin': conda)",
   "name": "python3"
  },
  "language_info": {
   "codemirror_mode": {
    "name": "ipython",
    "version": 3
   },
   "file_extension": ".py",
   "mimetype": "text/x-python",
   "name": "python",
   "nbconvert_exporter": "python",
   "pygments_lexer": "ipython3",
   "version": "3.9.6"
  },
  "orig_nbformat": 4
 },
 "nbformat": 4,
 "nbformat_minor": 2
}
